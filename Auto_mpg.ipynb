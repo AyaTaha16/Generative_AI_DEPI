{
  "nbformat": 4,
  "nbformat_minor": 0,
  "metadata": {
    "colab": {
      "provenance": [],
      "authorship_tag": "ABX9TyNbs6QzzuXUqkSTUE4hDtwJ",
      "include_colab_link": true
    },
    "kernelspec": {
      "name": "python3",
      "display_name": "Python 3"
    },
    "language_info": {
      "name": "python"
    }
  },
  "cells": [
    {
      "cell_type": "markdown",
      "metadata": {
        "id": "view-in-github",
        "colab_type": "text"
      },
      "source": [
        "<a href=\"https://colab.research.google.com/github/AyaTaha16/Generative_AI_DEPI/blob/main/Auto_mpg.ipynb\" target=\"_parent\"><img src=\"https://colab.research.google.com/assets/colab-badge.svg\" alt=\"Open In Colab\"/></a>"
      ]
    },
    {
      "cell_type": "code",
      "source": [
        "import pandas as pd\n",
        "import numpy as np\n",
        "import csv\n",
        "import string\n",
        "import os\n",
        "import re\n",
        "import seaborn as sns\n",
        "import matplotlib.pyplot as plt\n",
        "from sklearn.model_selection import train_test_split\n",
        "from sklearn.metrics import r2_score\n",
        "from tensorflow.keras.models import Sequential\n",
        "from tensorflow.keras.layers import Conv1D, MaxPooling1D, Dense, Flatten\n",
        "from keras.optimizers import SGD , Adam , RMSprop\n",
        "from keras.utils import to_categorical\n",
        "from sklearn.preprocessing import StandardScaler\n",
        "from sklearn.linear_model import LinearRegression\n",
        "from sklearn.feature_selection import RFE\n",
        "\n",
        "from sklearn.metrics import mean_absolute_error, mean_squared_error"
      ],
      "metadata": {
        "id": "EFBQhMmiu8Iu"
      },
      "execution_count": null,
      "outputs": []
    },
    {
      "cell_type": "code",
      "execution_count": null,
      "metadata": {
        "colab": {
          "base_uri": "https://localhost:8080/"
        },
        "id": "TtYPpm5htsmq",
        "outputId": "5ac8a921-26db-4609-bf4d-1607d5a3730d"
      },
      "outputs": [
        {
          "output_type": "stream",
          "name": "stdout",
          "text": [
            "Requirement already satisfied: kaggle in /usr/local/lib/python3.10/dist-packages (1.6.14)\n",
            "Requirement already satisfied: six>=1.10 in /usr/local/lib/python3.10/dist-packages (from kaggle) (1.16.0)\n",
            "Requirement already satisfied: certifi>=2023.7.22 in /usr/local/lib/python3.10/dist-packages (from kaggle) (2024.2.2)\n",
            "Requirement already satisfied: python-dateutil in /usr/local/lib/python3.10/dist-packages (from kaggle) (2.8.2)\n",
            "Requirement already satisfied: requests in /usr/local/lib/python3.10/dist-packages (from kaggle) (2.31.0)\n",
            "Requirement already satisfied: tqdm in /usr/local/lib/python3.10/dist-packages (from kaggle) (4.66.4)\n",
            "Requirement already satisfied: python-slugify in /usr/local/lib/python3.10/dist-packages (from kaggle) (8.0.4)\n",
            "Requirement already satisfied: urllib3 in /usr/local/lib/python3.10/dist-packages (from kaggle) (2.0.7)\n",
            "Requirement already satisfied: bleach in /usr/local/lib/python3.10/dist-packages (from kaggle) (6.1.0)\n",
            "Requirement already satisfied: webencodings in /usr/local/lib/python3.10/dist-packages (from bleach->kaggle) (0.5.1)\n",
            "Requirement already satisfied: text-unidecode>=1.3 in /usr/local/lib/python3.10/dist-packages (from python-slugify->kaggle) (1.3)\n",
            "Requirement already satisfied: charset-normalizer<4,>=2 in /usr/local/lib/python3.10/dist-packages (from requests->kaggle) (3.3.2)\n",
            "Requirement already satisfied: idna<4,>=2.5 in /usr/local/lib/python3.10/dist-packages (from requests->kaggle) (3.7)\n",
            "cp: cannot stat 'kaggle.json': No such file or directory\n",
            "chmod: cannot access '/root/.kaggle/kaggle.json': No such file or directory\n",
            "Dataset URL: https://www.kaggle.com/datasets/uciml/autompg-dataset\n",
            "License(s): CC0-1.0\n",
            "Downloading autompg-dataset.zip to /content\n",
            "  0% 0.00/6.31k [00:00<?, ?B/s]\n",
            "100% 6.31k/6.31k [00:00<00:00, 13.1MB/s]\n",
            "Archive:  autompg-dataset.zip\n",
            "  inflating: auto-mpg.csv            \n"
          ]
        }
      ],
      "source": [
        "!pip install kaggle\n",
        "!mkdir -p ~/.kaggle\n",
        "!cp kaggle.json ~/.kaggle/\n",
        "!chmod 600 ~/.kaggle/kaggle.json\n",
        "!kaggle datasets  download -d uciml/autompg-dataset\n",
        "!unzip autompg-dataset.zip"
      ]
    },
    {
      "cell_type": "code",
      "source": [
        "dataset= pd.read_csv(\"/content/auto-mpg.csv\")\n",
        "dataset=pd.DataFrame(dataset)"
      ],
      "metadata": {
        "id": "BpFq9BDQuwGQ"
      },
      "execution_count": null,
      "outputs": []
    },
    {
      "cell_type": "code",
      "source": [
        "print(dataset.columns)"
      ],
      "metadata": {
        "colab": {
          "base_uri": "https://localhost:8080/"
        },
        "id": "50QbemNOPfbD",
        "outputId": "1b123c22-f4a1-4444-feea-6b3d23267aa6"
      },
      "execution_count": null,
      "outputs": [
        {
          "output_type": "stream",
          "name": "stdout",
          "text": [
            "Index(['mpg', 'cylinders', 'displacement', 'horsepower', 'weight',\n",
            "       'acceleration', 'model year', 'origin', 'car name'],\n",
            "      dtype='object')\n"
          ]
        }
      ]
    },
    {
      "cell_type": "code",
      "source": [
        "print(dataset.info())"
      ],
      "metadata": {
        "colab": {
          "base_uri": "https://localhost:8080/"
        },
        "id": "nNIaGEZkbA_M",
        "outputId": "200f9b39-1adb-4252-ce1a-0deba13f8cc3"
      },
      "execution_count": null,
      "outputs": [
        {
          "output_type": "stream",
          "name": "stdout",
          "text": [
            "<class 'pandas.core.frame.DataFrame'>\n",
            "RangeIndex: 398 entries, 0 to 397\n",
            "Data columns (total 9 columns):\n",
            " #   Column        Non-Null Count  Dtype  \n",
            "---  ------        --------------  -----  \n",
            " 0   mpg           398 non-null    float64\n",
            " 1   cylinders     398 non-null    int64  \n",
            " 2   displacement  398 non-null    float64\n",
            " 3   horsepower    398 non-null    object \n",
            " 4   weight        398 non-null    int64  \n",
            " 5   acceleration  398 non-null    float64\n",
            " 6   model year    398 non-null    int64  \n",
            " 7   origin        398 non-null    int64  \n",
            " 8   car name      398 non-null    object \n",
            "dtypes: float64(3), int64(4), object(2)\n",
            "memory usage: 28.1+ KB\n",
            "None\n"
          ]
        }
      ]
    },
    {
      "cell_type": "code",
      "source": [
        "print(dataset.describe())"
      ],
      "metadata": {
        "colab": {
          "base_uri": "https://localhost:8080/"
        },
        "id": "zmTYuuFpbI0i",
        "outputId": "c6f30d96-2dfa-4ed4-c8ac-89b0f3fc8c8e"
      },
      "execution_count": null,
      "outputs": [
        {
          "output_type": "stream",
          "name": "stdout",
          "text": [
            "              mpg   cylinders  displacement       weight  acceleration  \\\n",
            "count  398.000000  398.000000    398.000000   398.000000    398.000000   \n",
            "mean    23.514573    5.454774    193.425879  2970.424623     15.568090   \n",
            "std      7.815984    1.701004    104.269838   846.841774      2.757689   \n",
            "min      9.000000    3.000000     68.000000  1613.000000      8.000000   \n",
            "25%     17.500000    4.000000    104.250000  2223.750000     13.825000   \n",
            "50%     23.000000    4.000000    148.500000  2803.500000     15.500000   \n",
            "75%     29.000000    8.000000    262.000000  3608.000000     17.175000   \n",
            "max     46.600000    8.000000    455.000000  5140.000000     24.800000   \n",
            "\n",
            "       model year      origin  \n",
            "count  398.000000  398.000000  \n",
            "mean    76.010050    1.572864  \n",
            "std      3.697627    0.802055  \n",
            "min     70.000000    1.000000  \n",
            "25%     73.000000    1.000000  \n",
            "50%     76.000000    1.000000  \n",
            "75%     79.000000    2.000000  \n",
            "max     82.000000    3.000000  \n"
          ]
        }
      ]
    },
    {
      "cell_type": "code",
      "source": [
        "print(dataset.isna().sum())"
      ],
      "metadata": {
        "colab": {
          "base_uri": "https://localhost:8080/"
        },
        "id": "tWHJ4sv0bTPv",
        "outputId": "66ebd9ef-334d-4caf-c9ec-0c99c51239e4"
      },
      "execution_count": null,
      "outputs": [
        {
          "output_type": "stream",
          "name": "stdout",
          "text": [
            "mpg             0\n",
            "cylinders       0\n",
            "displacement    0\n",
            "horsepower      0\n",
            "weight          0\n",
            "acceleration    0\n",
            "model year      0\n",
            "origin          0\n",
            "car name        0\n",
            "dtype: int64\n"
          ]
        }
      ]
    },
    {
      "cell_type": "code",
      "source": [
        "dataset = dataset.replace('?', np.nan)\n",
        "print(dataset.isna().sum())"
      ],
      "metadata": {
        "colab": {
          "base_uri": "https://localhost:8080/"
        },
        "id": "OTo3eHZN0OMw",
        "outputId": "af3e4d25-a7f7-4fc3-efb6-607410f0c0d1"
      },
      "execution_count": null,
      "outputs": [
        {
          "output_type": "stream",
          "name": "stdout",
          "text": [
            "mpg             0\n",
            "cylinders       0\n",
            "displacement    0\n",
            "horsepower      6\n",
            "weight          0\n",
            "acceleration    0\n",
            "model year      0\n",
            "origin          0\n",
            "car name        0\n",
            "dtype: int64\n"
          ]
        }
      ]
    },
    {
      "cell_type": "code",
      "source": [
        "dataset= dataset.drop('car name', axis=1)\n",
        "replace = dataset.fillna(dataset.median(), inplace=True)\n",
        "print(dataset.isna().sum())"
      ],
      "metadata": {
        "colab": {
          "base_uri": "https://localhost:8080/"
        },
        "id": "tfI3MYCbbbYL",
        "outputId": "57f07945-c4a7-4273-9085-33e1a8dbe7e9"
      },
      "execution_count": null,
      "outputs": [
        {
          "output_type": "stream",
          "name": "stdout",
          "text": [
            "mpg             0\n",
            "cylinders       0\n",
            "displacement    0\n",
            "horsepower      0\n",
            "weight          0\n",
            "acceleration    0\n",
            "model year      0\n",
            "origin          0\n",
            "dtype: int64\n"
          ]
        }
      ]
    },
    {
      "cell_type": "code",
      "source": [
        "# Calculate the correlation matrix\n",
        "corr_matrix = dataset.corr()\n",
        "# Create the heatmap\n",
        "plt.figure(figsize=(10, 8))\n",
        "sns.heatmap(corr_matrix, annot=True, cmap='YlOrRd')\n",
        "plt.title('Correlation Heatmap')\n",
        "plt.show()"
      ],
      "metadata": {
        "colab": {
          "base_uri": "https://localhost:8080/",
          "height": 778
        },
        "id": "C_ycymyiRApH",
        "outputId": "2308c6ad-2261-4820-a462-635bef1a5e4a"
      },
      "execution_count": null,
      "outputs": [
        {
          "output_type": "display_data",
          "data": {
            "text/plain": [
              "<Figure size 1000x800 with 2 Axes>"
            ],
            "image/png": "[encoded data removed]"
          },
          "metadata": {}
        }
      ]
    },
    {
      "cell_type": "code",
      "source": [
        "scaler = StandardScaler()\n",
        "scaled_data = scaler.fit_transform(dataset)\n",
        "z_scores = np.abs(scaled_data)\n",
        "# Define a threshold for outliers (e.g., 3 standard deviations)\n",
        "threshold = 3\n",
        "outlier_indices = np.where(z_scores > threshold)\n",
        "# Remove outliers from the dataset\n",
        "dataset = dataset.drop(dataset.index[outlier_indices[0]])\n"
      ],
      "metadata": {
        "id": "GcbW7Ez6NGdv"
      },
      "execution_count": null,
      "outputs": []
    },
    {
      "cell_type": "code",
      "source": [
        "n = dataset.nunique(axis=0)\n",
        "print(\"No.of.unique values in each column :\\n\",n)"
      ],
      "metadata": {
        "colab": {
          "base_uri": "https://localhost:8080/"
        },
        "id": "I9E-v9nxa1Rq",
        "outputId": "1e270340-f5c3-4ced-99d9-e51f0ae2baae"
      },
      "execution_count": null,
      "outputs": [
        {
          "output_type": "stream",
          "name": "stdout",
          "text": [
            "No.of.unique values in each column :\n",
            " mpg             128\n",
            "cylinders         5\n",
            "displacement     80\n",
            "horsepower       91\n",
            "weight          345\n",
            "acceleration     92\n",
            "model year       13\n",
            "origin            3\n",
            "dtype: int64\n"
          ]
        }
      ]
    },
    {
      "cell_type": "code",
      "source": [
        "X = dataset.drop('mpg', axis=1)\n",
        "y = dataset['mpg']\n",
        "model = LinearRegression()\n",
        "# Apply Recursive Feature Elimination\n",
        "rfe = RFE(model, n_features_to_select=5)\n",
        "rfe = rfe.fit(X, y)\n",
        "# Print the selected features\n",
        "print(\"Selected Features:\")\n",
        "for i, feature in enumerate(X.columns):\n",
        "    if rfe.support_[i]:\n",
        "        print(feature)\n",
        "columns_to_drop = ['displacement','weight']\n",
        "dataset= dataset.drop(columns_to_drop, axis=1)"
      ],
      "metadata": {
        "id": "8pGXftuaw3y8",
        "colab": {
          "base_uri": "https://localhost:8080/"
        },
        "outputId": "6619d630-2bba-4524-af0e-80be1ad742f1"
      },
      "execution_count": null,
      "outputs": [
        {
          "output_type": "stream",
          "name": "stdout",
          "text": [
            "Selected Features:\n",
            "cylinders\n",
            "horsepower\n",
            "acceleration\n",
            "model year\n",
            "origin\n"
          ]
        }
      ]
    },
    {
      "cell_type": "code",
      "source": [
        "X = dataset.drop('mpg', axis=1)\n",
        "y = dataset['mpg']\n",
        "scaler = StandardScaler()\n",
        "X_train, X_test, y_train, y_test = train_test_split(X, y, test_size=0.2, random_state=42)\n",
        "X_train_scaled = scaler.fit_transform(X_train)\n",
        "X_test_scaled = scaler.transform(X_test)\n"
      ],
      "metadata": {
        "id": "AfgGSiKJmJxF"
      },
      "execution_count": null,
      "outputs": []
    },
    {
      "cell_type": "code",
      "source": [
        "model = Sequential()\n",
        "model.add(Dense(16, activation = 'relu', input_dim= X_train_scaled.shape[1]))\n",
        "model.add(Dense(8, activation = 'relu'))\n",
        "model.add(Dense(8, activation = 'relu'))\n",
        "model.add(Dense(1))\n",
        "model.summary()"
      ],
      "metadata": {
        "colab": {
          "base_uri": "https://localhost:8080/"
        },
        "id": "WXBB7EtXdOBp",
        "outputId": "862b9818-4ec5-4de0-bfb2-13f5e3d15758"
      },
      "execution_count": null,
      "outputs": [
        {
          "output_type": "stream",
          "name": "stdout",
          "text": [
            "Model: \"sequential_12\"\n",
            "_________________________________________________________________\n",
            " Layer (type)                Output Shape              Param #   \n",
            "=================================================================\n",
            " dense_46 (Dense)            (None, 16)                96        \n",
            "                                                                 \n",
            " dense_47 (Dense)            (None, 8)                 136       \n",
            "                                                                 \n",
            " dense_48 (Dense)            (None, 8)                 72        \n",
            "                                                                 \n",
            " dense_49 (Dense)            (None, 1)                 9         \n",
            "                                                                 \n",
            "=================================================================\n",
            "Total params: 313 (1.22 KB)\n",
            "Trainable params: 313 (1.22 KB)\n",
            "Non-trainable params: 0 (0.00 Byte)\n",
            "_________________________________________________________________\n"
          ]
        }
      ]
    },
    {
      "cell_type": "code",
      "source": [
        "# Compile the model\n",
        "model.compile(optimizer='adam', loss='mean_squared_error')\n",
        "# Train the model\n",
        "history = model.fit(X_train_scaled, y_train, validation_data = (X_test_scaled, y_test), epochs =200)"
      ],
      "metadata": {
        "colab": {
          "base_uri": "https://localhost:8080/"
        },
        "id": "HgBp277LfTbj",
        "outputId": "e03fb0c1-8016-4d53-cef6-9215885fa6f9"
      },
      "execution_count": null,
      "outputs": [
        {
          "output_type": "stream",
          "name": "stdout",
          "text": [
            "Epoch 1/200\n",
            "10/10 [==============================] - 1s 21ms/step - loss: 606.0486 - val_loss: 565.3624\n",
            "Epoch 2/200\n",
            "10/10 [==============================] - 0s 7ms/step - loss: 598.2580 - val_loss: 556.3940\n",
            "Epoch 3/200\n",
            "10/10 [==============================] - 0s 5ms/step - loss: 588.8965 - val_loss: 545.5068\n",
            "Epoch 4/200\n",
            "10/10 [==============================] - 0s 11ms/step - loss: 577.7197 - val_loss: 532.3470\n",
            "Epoch 5/200\n",
            "10/10 [==============================] - 0s 12ms/step - loss: 563.8928 - val_loss: 516.4884\n",
            "Epoch 6/200\n",
            "10/10 [==============================] - 0s 12ms/step - loss: 546.5767 - val_loss: 497.2183\n",
            "Epoch 7/200\n",
            "10/10 [==============================] - 0s 11ms/step - loss: 525.2783 - val_loss: 473.4247\n",
            "Epoch 8/200\n",
            "10/10 [==============================] - 0s 10ms/step - loss: 499.8066 - val_loss: 444.5119\n",
            "Epoch 9/200\n",
            "10/10 [==============================] - 0s 5ms/step - loss: 469.1723 - val_loss: 410.1602\n",
            "Epoch 10/200\n",
            "10/10 [==============================] - 0s 12ms/step - loss: 432.1915 - val_loss: 371.2544\n",
            "Epoch 11/200\n",
            "10/10 [==============================] - 0s 10ms/step - loss: 390.9409 - val_loss: 327.0558\n",
            "Epoch 12/200\n",
            "10/10 [==============================] - 0s 12ms/step - loss: 344.1942 - val_loss: 279.1132\n",
            "Epoch 13/200\n",
            "10/10 [==============================] - 0s 9ms/step - loss: 293.1739 - val_loss: 229.9178\n",
            "Epoch 14/200\n",
            "10/10 [==============================] - 0s 8ms/step - loss: 242.0278 - val_loss: 180.8403\n",
            "Epoch 15/200\n",
            "10/10 [==============================] - 0s 9ms/step - loss: 191.3537 - val_loss: 136.1784\n",
            "Epoch 16/200\n",
            "10/10 [==============================] - 0s 9ms/step - loss: 145.4635 - val_loss: 99.4910\n",
            "Epoch 17/200\n",
            "10/10 [==============================] - 0s 9ms/step - loss: 108.7079 - val_loss: 72.4539\n",
            "Epoch 18/200\n",
            "10/10 [==============================] - 0s 7ms/step - loss: 81.2176 - val_loss: 55.8293\n",
            "Epoch 19/200\n",
            "10/10 [==============================] - 0s 10ms/step - loss: 63.2234 - val_loss: 47.2396\n",
            "Epoch 20/200\n",
            "10/10 [==============================] - 0s 10ms/step - loss: 52.8724 - val_loss: 43.0401\n",
            "Epoch 21/200\n",
            "10/10 [==============================] - 0s 13ms/step - loss: 46.4865 - val_loss: 40.3770\n",
            "Epoch 22/200\n",
            "10/10 [==============================] - 0s 18ms/step - loss: 42.6791 - val_loss: 37.9241\n",
            "Epoch 23/200\n",
            "10/10 [==============================] - 0s 16ms/step - loss: 39.2769 - val_loss: 35.4643\n",
            "Epoch 24/200\n",
            "10/10 [==============================] - 0s 18ms/step - loss: 36.2892 - val_loss: 32.7745\n",
            "Epoch 25/200\n",
            "10/10 [==============================] - 0s 14ms/step - loss: 33.7307 - val_loss: 30.3689\n",
            "Epoch 26/200\n",
            "10/10 [==============================] - 0s 16ms/step - loss: 31.4499 - val_loss: 28.2052\n",
            "Epoch 27/200\n",
            "10/10 [==============================] - 0s 12ms/step - loss: 29.5297 - val_loss: 26.4127\n",
            "Epoch 28/200\n",
            "10/10 [==============================] - 0s 12ms/step - loss: 27.7572 - val_loss: 24.6314\n",
            "Epoch 29/200\n",
            "10/10 [==============================] - 0s 11ms/step - loss: 26.2006 - val_loss: 23.1447\n",
            "Epoch 30/200\n",
            "10/10 [==============================] - 0s 12ms/step - loss: 24.9100 - val_loss: 21.8019\n",
            "Epoch 31/200\n",
            "10/10 [==============================] - 0s 13ms/step - loss: 23.7709 - val_loss: 20.5713\n",
            "Epoch 32/200\n",
            "10/10 [==============================] - 0s 11ms/step - loss: 22.7029 - val_loss: 19.6746\n",
            "Epoch 33/200\n",
            "10/10 [==============================] - 0s 10ms/step - loss: 21.7053 - val_loss: 18.8214\n",
            "Epoch 34/200\n",
            "10/10 [==============================] - 0s 11ms/step - loss: 20.8318 - val_loss: 17.9412\n",
            "Epoch 35/200\n",
            "10/10 [==============================] - 0s 11ms/step - loss: 20.0758 - val_loss: 17.1666\n",
            "Epoch 36/200\n",
            "10/10 [==============================] - 0s 11ms/step - loss: 19.4163 - val_loss: 16.5351\n",
            "Epoch 37/200\n",
            "10/10 [==============================] - 0s 14ms/step - loss: 18.7980 - val_loss: 15.9079\n",
            "Epoch 38/200\n",
            "10/10 [==============================] - 0s 17ms/step - loss: 18.2442 - val_loss: 15.5111\n",
            "Epoch 39/200\n",
            "10/10 [==============================] - 0s 21ms/step - loss: 17.7526 - val_loss: 15.0233\n",
            "Epoch 40/200\n",
            "10/10 [==============================] - 0s 22ms/step - loss: 17.2971 - val_loss: 14.6229\n",
            "Epoch 41/200\n",
            "10/10 [==============================] - 0s 25ms/step - loss: 16.9459 - val_loss: 14.3435\n",
            "Epoch 42/200\n",
            "10/10 [==============================] - 0s 25ms/step - loss: 16.5351 - val_loss: 13.9051\n",
            "Epoch 43/200\n",
            "10/10 [==============================] - 0s 20ms/step - loss: 16.2267 - val_loss: 13.5688\n",
            "Epoch 44/200\n",
            "10/10 [==============================] - 0s 24ms/step - loss: 15.9305 - val_loss: 13.3806\n",
            "Epoch 45/200\n",
            "10/10 [==============================] - 0s 23ms/step - loss: 15.6718 - val_loss: 13.2089\n",
            "Epoch 46/200\n",
            "10/10 [==============================] - 0s 23ms/step - loss: 15.4226 - val_loss: 12.9312\n",
            "Epoch 47/200\n",
            "10/10 [==============================] - 0s 19ms/step - loss: 15.1649 - val_loss: 12.7762\n",
            "Epoch 48/200\n",
            "10/10 [==============================] - 0s 18ms/step - loss: 14.9636 - val_loss: 12.6334\n",
            "Epoch 49/200\n",
            "10/10 [==============================] - 0s 25ms/step - loss: 14.7594 - val_loss: 12.4818\n",
            "Epoch 50/200\n",
            "10/10 [==============================] - 0s 23ms/step - loss: 14.5735 - val_loss: 12.3390\n",
            "Epoch 51/200\n",
            "10/10 [==============================] - 0s 25ms/step - loss: 14.3959 - val_loss: 12.1675\n",
            "Epoch 52/200\n",
            "10/10 [==============================] - 0s 19ms/step - loss: 14.2567 - val_loss: 11.9938\n",
            "Epoch 53/200\n",
            "10/10 [==============================] - 0s 25ms/step - loss: 14.0779 - val_loss: 11.9681\n",
            "Epoch 54/200\n",
            "10/10 [==============================] - 0s 28ms/step - loss: 13.9307 - val_loss: 11.8308\n",
            "Epoch 55/200\n",
            "10/10 [==============================] - 0s 20ms/step - loss: 13.7884 - val_loss: 11.7393\n",
            "Epoch 56/200\n",
            "10/10 [==============================] - 0s 20ms/step - loss: 13.6473 - val_loss: 11.6046\n",
            "Epoch 57/200\n",
            "10/10 [==============================] - 0s 14ms/step - loss: 13.5142 - val_loss: 11.5273\n",
            "Epoch 58/200\n",
            "10/10 [==============================] - 0s 10ms/step - loss: 13.3908 - val_loss: 11.4462\n",
            "Epoch 59/200\n",
            "10/10 [==============================] - 0s 20ms/step - loss: 13.2717 - val_loss: 11.3331\n",
            "Epoch 60/200\n",
            "10/10 [==============================] - 0s 15ms/step - loss: 13.1657 - val_loss: 11.2095\n",
            "Epoch 61/200\n",
            "10/10 [==============================] - 0s 13ms/step - loss: 13.0209 - val_loss: 11.1531\n",
            "Epoch 62/200\n",
            "10/10 [==============================] - 0s 9ms/step - loss: 12.9331 - val_loss: 11.0983\n",
            "Epoch 63/200\n",
            "10/10 [==============================] - 0s 10ms/step - loss: 12.8063 - val_loss: 10.9411\n",
            "Epoch 64/200\n",
            "10/10 [==============================] - 0s 27ms/step - loss: 12.6832 - val_loss: 10.8874\n",
            "Epoch 65/200\n",
            "10/10 [==============================] - 0s 11ms/step - loss: 12.5984 - val_loss: 10.7902\n",
            "Epoch 66/200\n",
            "10/10 [==============================] - 0s 11ms/step - loss: 12.4891 - val_loss: 10.7083\n",
            "Epoch 67/200\n",
            "10/10 [==============================] - 0s 13ms/step - loss: 12.4020 - val_loss: 10.5936\n",
            "Epoch 68/200\n",
            "10/10 [==============================] - 0s 11ms/step - loss: 12.2978 - val_loss: 10.5917\n",
            "Epoch 69/200\n",
            "10/10 [==============================] - 0s 13ms/step - loss: 12.2162 - val_loss: 10.5339\n",
            "Epoch 70/200\n",
            "10/10 [==============================] - 0s 10ms/step - loss: 12.1200 - val_loss: 10.3813\n",
            "Epoch 71/200\n",
            "10/10 [==============================] - 0s 16ms/step - loss: 12.0329 - val_loss: 10.3384\n",
            "Epoch 72/200\n",
            "10/10 [==============================] - 0s 13ms/step - loss: 11.9518 - val_loss: 10.3097\n",
            "Epoch 73/200\n",
            "10/10 [==============================] - 0s 22ms/step - loss: 11.8600 - val_loss: 10.2646\n",
            "Epoch 74/200\n",
            "10/10 [==============================] - 0s 16ms/step - loss: 11.7785 - val_loss: 10.1731\n",
            "Epoch 75/200\n",
            "10/10 [==============================] - 0s 15ms/step - loss: 11.7298 - val_loss: 10.1214\n",
            "Epoch 76/200\n",
            "10/10 [==============================] - 0s 16ms/step - loss: 11.6370 - val_loss: 10.0851\n",
            "Epoch 77/200\n",
            "10/10 [==============================] - 0s 11ms/step - loss: 11.6259 - val_loss: 10.1245\n",
            "Epoch 78/200\n",
            "10/10 [==============================] - 0s 12ms/step - loss: 11.5274 - val_loss: 9.9752\n",
            "Epoch 79/200\n",
            "10/10 [==============================] - 0s 10ms/step - loss: 11.4461 - val_loss: 9.9322\n",
            "Epoch 80/200\n",
            "10/10 [==============================] - 0s 18ms/step - loss: 11.3721 - val_loss: 9.8956\n",
            "Epoch 81/200\n",
            "10/10 [==============================] - 0s 10ms/step - loss: 11.3227 - val_loss: 9.9173\n",
            "Epoch 82/200\n",
            "10/10 [==============================] - 0s 10ms/step - loss: 11.2737 - val_loss: 9.8217\n",
            "Epoch 83/200\n",
            "10/10 [==============================] - 0s 10ms/step - loss: 11.1895 - val_loss: 9.8022\n",
            "Epoch 84/200\n",
            "10/10 [==============================] - 0s 22ms/step - loss: 11.1536 - val_loss: 9.7965\n",
            "Epoch 85/200\n",
            "10/10 [==============================] - 0s 16ms/step - loss: 11.1216 - val_loss: 9.8436\n",
            "Epoch 86/200\n",
            "10/10 [==============================] - 0s 17ms/step - loss: 11.0525 - val_loss: 9.6824\n",
            "Epoch 87/200\n",
            "10/10 [==============================] - 0s 8ms/step - loss: 10.9834 - val_loss: 9.6253\n",
            "Epoch 88/200\n",
            "10/10 [==============================] - 0s 13ms/step - loss: 10.9374 - val_loss: 9.6606\n",
            "Epoch 89/200\n",
            "10/10 [==============================] - 0s 15ms/step - loss: 10.8862 - val_loss: 9.6514\n",
            "Epoch 90/200\n",
            "10/10 [==============================] - 0s 10ms/step - loss: 10.8502 - val_loss: 9.5602\n",
            "Epoch 91/200\n",
            "10/10 [==============================] - 0s 10ms/step - loss: 10.8503 - val_loss: 9.6583\n",
            "Epoch 92/200\n",
            "10/10 [==============================] - 0s 11ms/step - loss: 10.7900 - val_loss: 9.4512\n",
            "Epoch 93/200\n",
            "10/10 [==============================] - 0s 10ms/step - loss: 10.7246 - val_loss: 9.4913\n",
            "Epoch 94/200\n",
            "10/10 [==============================] - 0s 19ms/step - loss: 10.6794 - val_loss: 9.4909\n",
            "Epoch 95/200\n",
            "10/10 [==============================] - 0s 10ms/step - loss: 10.6406 - val_loss: 9.5389\n",
            "Epoch 96/200\n",
            "10/10 [==============================] - 0s 10ms/step - loss: 10.5832 - val_loss: 9.4327\n",
            "Epoch 97/200\n",
            "10/10 [==============================] - 0s 10ms/step - loss: 10.5654 - val_loss: 9.3384\n",
            "Epoch 98/200\n",
            "10/10 [==============================] - 0s 10ms/step - loss: 10.5383 - val_loss: 9.3314\n",
            "Epoch 99/200\n",
            "10/10 [==============================] - 0s 11ms/step - loss: 10.4950 - val_loss: 9.4315\n",
            "Epoch 100/200\n",
            "10/10 [==============================] - 0s 8ms/step - loss: 10.4417 - val_loss: 9.3843\n",
            "Epoch 101/200\n",
            "10/10 [==============================] - 0s 16ms/step - loss: 10.4356 - val_loss: 9.3390\n",
            "Epoch 102/200\n",
            "10/10 [==============================] - 0s 17ms/step - loss: 10.3747 - val_loss: 9.2793\n",
            "Epoch 103/200\n",
            "10/10 [==============================] - 0s 11ms/step - loss: 10.3548 - val_loss: 9.3249\n",
            "Epoch 104/200\n",
            "10/10 [==============================] - 0s 12ms/step - loss: 10.3160 - val_loss: 9.2575\n",
            "Epoch 105/200\n",
            "10/10 [==============================] - 0s 17ms/step - loss: 10.2905 - val_loss: 9.2347\n",
            "Epoch 106/200\n",
            "10/10 [==============================] - 0s 15ms/step - loss: 10.2774 - val_loss: 9.2844\n",
            "Epoch 107/200\n",
            "10/10 [==============================] - 0s 10ms/step - loss: 10.2126 - val_loss: 9.1906\n",
            "Epoch 108/200\n",
            "10/10 [==============================] - 0s 10ms/step - loss: 10.2019 - val_loss: 9.0971\n",
            "Epoch 109/200\n",
            "10/10 [==============================] - 0s 11ms/step - loss: 10.1854 - val_loss: 9.1393\n",
            "Epoch 110/200\n",
            "10/10 [==============================] - 0s 11ms/step - loss: 10.1462 - val_loss: 9.1388\n",
            "Epoch 111/200\n",
            "10/10 [==============================] - 0s 10ms/step - loss: 10.1448 - val_loss: 9.1976\n",
            "Epoch 112/200\n",
            "10/10 [==============================] - 0s 27ms/step - loss: 10.1089 - val_loss: 9.1166\n",
            "Epoch 113/200\n",
            "10/10 [==============================] - 0s 13ms/step - loss: 10.0897 - val_loss: 9.0897\n",
            "Epoch 114/200\n",
            "10/10 [==============================] - 0s 30ms/step - loss: 10.0382 - val_loss: 9.0156\n",
            "Epoch 115/200\n",
            "10/10 [==============================] - 0s 23ms/step - loss: 10.0332 - val_loss: 9.0425\n",
            "Epoch 116/200\n",
            "10/10 [==============================] - 0s 22ms/step - loss: 10.0265 - val_loss: 8.9949\n",
            "Epoch 117/200\n",
            "10/10 [==============================] - 0s 22ms/step - loss: 10.0140 - val_loss: 9.1226\n",
            "Epoch 118/200\n",
            "10/10 [==============================] - 0s 18ms/step - loss: 9.9968 - val_loss: 8.9500\n",
            "Epoch 119/200\n",
            "10/10 [==============================] - 0s 30ms/step - loss: 9.9285 - val_loss: 8.9861\n",
            "Epoch 120/200\n",
            "10/10 [==============================] - 0s 21ms/step - loss: 9.9376 - val_loss: 8.9550\n",
            "Epoch 121/200\n",
            "10/10 [==============================] - 0s 24ms/step - loss: 9.9275 - val_loss: 8.9793\n",
            "Epoch 122/200\n",
            "10/10 [==============================] - 0s 21ms/step - loss: 9.9069 - val_loss: 8.8503\n",
            "Epoch 123/200\n",
            "10/10 [==============================] - 0s 19ms/step - loss: 9.8604 - val_loss: 8.9191\n",
            "Epoch 124/200\n",
            "10/10 [==============================] - 0s 28ms/step - loss: 9.8700 - val_loss: 8.9016\n",
            "Epoch 125/200\n",
            "10/10 [==============================] - 0s 28ms/step - loss: 9.8366 - val_loss: 8.8724\n",
            "Epoch 126/200\n",
            "10/10 [==============================] - 0s 22ms/step - loss: 9.8110 - val_loss: 8.8583\n",
            "Epoch 127/200\n",
            "10/10 [==============================] - 0s 27ms/step - loss: 9.8468 - val_loss: 8.9980\n",
            "Epoch 128/200\n",
            "10/10 [==============================] - 0s 21ms/step - loss: 9.7896 - val_loss: 8.8228\n",
            "Epoch 129/200\n",
            "10/10 [==============================] - 0s 33ms/step - loss: 9.7760 - val_loss: 8.8331\n",
            "Epoch 130/200\n",
            "10/10 [==============================] - 0s 15ms/step - loss: 9.7674 - val_loss: 8.8447\n",
            "Epoch 131/200\n",
            "10/10 [==============================] - 0s 14ms/step - loss: 9.7872 - val_loss: 8.6936\n",
            "Epoch 132/200\n",
            "10/10 [==============================] - 0s 11ms/step - loss: 9.7085 - val_loss: 8.8484\n",
            "Epoch 133/200\n",
            "10/10 [==============================] - 0s 11ms/step - loss: 9.6859 - val_loss: 8.8119\n",
            "Epoch 134/200\n",
            "10/10 [==============================] - 0s 22ms/step - loss: 9.6701 - val_loss: 8.7825\n",
            "Epoch 135/200\n",
            "10/10 [==============================] - 0s 24ms/step - loss: 9.7372 - val_loss: 8.8555\n",
            "Epoch 136/200\n",
            "10/10 [==============================] - 0s 18ms/step - loss: 9.6528 - val_loss: 8.6584\n",
            "Epoch 137/200\n",
            "10/10 [==============================] - 0s 22ms/step - loss: 9.6435 - val_loss: 8.6204\n",
            "Epoch 138/200\n",
            "10/10 [==============================] - 0s 16ms/step - loss: 9.6413 - val_loss: 8.7691\n",
            "Epoch 139/200\n",
            "10/10 [==============================] - 0s 10ms/step - loss: 9.6097 - val_loss: 8.7528\n",
            "Epoch 140/200\n",
            "10/10 [==============================] - 0s 10ms/step - loss: 9.6342 - val_loss: 8.7473\n",
            "Epoch 141/200\n",
            "10/10 [==============================] - 0s 30ms/step - loss: 9.5644 - val_loss: 8.5970\n",
            "Epoch 142/200\n",
            "10/10 [==============================] - 0s 13ms/step - loss: 9.5595 - val_loss: 8.6185\n",
            "Epoch 143/200\n",
            "10/10 [==============================] - 0s 13ms/step - loss: 9.5227 - val_loss: 8.6807\n",
            "Epoch 144/200\n",
            "10/10 [==============================] - 0s 11ms/step - loss: 9.5307 - val_loss: 8.6986\n",
            "Epoch 145/200\n",
            "10/10 [==============================] - 0s 10ms/step - loss: 9.5043 - val_loss: 8.5985\n",
            "Epoch 146/200\n",
            "10/10 [==============================] - 0s 9ms/step - loss: 9.5088 - val_loss: 8.5286\n",
            "Epoch 147/200\n",
            "10/10 [==============================] - 0s 15ms/step - loss: 9.4735 - val_loss: 8.5564\n",
            "Epoch 148/200\n",
            "10/10 [==============================] - 0s 19ms/step - loss: 9.4989 - val_loss: 8.6855\n",
            "Epoch 149/200\n",
            "10/10 [==============================] - 0s 14ms/step - loss: 9.4551 - val_loss: 8.5779\n",
            "Epoch 150/200\n",
            "10/10 [==============================] - 0s 16ms/step - loss: 9.4617 - val_loss: 8.5023\n",
            "Epoch 151/200\n",
            "10/10 [==============================] - 0s 15ms/step - loss: 9.4424 - val_loss: 8.5893\n",
            "Epoch 152/200\n",
            "10/10 [==============================] - 0s 18ms/step - loss: 9.4125 - val_loss: 8.5943\n",
            "Epoch 153/200\n",
            "10/10 [==============================] - 0s 17ms/step - loss: 9.4210 - val_loss: 8.4769\n",
            "Epoch 154/200\n",
            "10/10 [==============================] - 0s 22ms/step - loss: 9.3935 - val_loss: 8.5064\n",
            "Epoch 155/200\n",
            "10/10 [==============================] - 0s 14ms/step - loss: 9.3776 - val_loss: 8.4738\n",
            "Epoch 156/200\n",
            "10/10 [==============================] - 0s 18ms/step - loss: 9.3610 - val_loss: 8.5017\n",
            "Epoch 157/200\n",
            "10/10 [==============================] - 0s 10ms/step - loss: 9.3698 - val_loss: 8.4074\n",
            "Epoch 158/200\n",
            "10/10 [==============================] - 0s 18ms/step - loss: 9.3596 - val_loss: 8.5258\n",
            "Epoch 159/200\n",
            "10/10 [==============================] - 0s 22ms/step - loss: 9.3305 - val_loss: 8.5043\n",
            "Epoch 160/200\n",
            "10/10 [==============================] - 0s 20ms/step - loss: 9.3259 - val_loss: 8.3991\n",
            "Epoch 161/200\n",
            "10/10 [==============================] - 0s 12ms/step - loss: 9.3064 - val_loss: 8.4307\n",
            "Epoch 162/200\n",
            "10/10 [==============================] - 0s 27ms/step - loss: 9.3719 - val_loss: 8.5966\n",
            "Epoch 163/200\n",
            "10/10 [==============================] - 0s 40ms/step - loss: 9.2869 - val_loss: 8.3669\n",
            "Epoch 164/200\n",
            "10/10 [==============================] - 0s 25ms/step - loss: 9.2812 - val_loss: 8.3703\n",
            "Epoch 165/200\n",
            "10/10 [==============================] - 0s 29ms/step - loss: 9.2575 - val_loss: 8.4065\n",
            "Epoch 166/200\n",
            "10/10 [==============================] - 0s 20ms/step - loss: 9.2532 - val_loss: 8.3056\n",
            "Epoch 167/200\n",
            "10/10 [==============================] - 0s 13ms/step - loss: 9.2613 - val_loss: 8.3662\n",
            "Epoch 168/200\n",
            "10/10 [==============================] - 0s 11ms/step - loss: 9.2325 - val_loss: 8.3509\n",
            "Epoch 169/200\n",
            "10/10 [==============================] - 0s 15ms/step - loss: 9.2292 - val_loss: 8.3259\n",
            "Epoch 170/200\n",
            "10/10 [==============================] - 0s 22ms/step - loss: 9.2109 - val_loss: 8.3089\n",
            "Epoch 171/200\n",
            "10/10 [==============================] - 0s 11ms/step - loss: 9.1749 - val_loss: 8.3720\n",
            "Epoch 172/200\n",
            "10/10 [==============================] - 0s 18ms/step - loss: 9.1981 - val_loss: 8.4121\n",
            "Epoch 173/200\n",
            "10/10 [==============================] - 0s 24ms/step - loss: 9.1562 - val_loss: 8.2783\n",
            "Epoch 174/200\n",
            "10/10 [==============================] - 0s 12ms/step - loss: 9.1883 - val_loss: 8.1773\n",
            "Epoch 175/200\n",
            "10/10 [==============================] - 0s 9ms/step - loss: 9.1574 - val_loss: 8.2916\n",
            "Epoch 176/200\n",
            "10/10 [==============================] - 0s 17ms/step - loss: 9.1174 - val_loss: 8.4186\n",
            "Epoch 177/200\n",
            "10/10 [==============================] - 0s 22ms/step - loss: 9.1590 - val_loss: 8.3522\n",
            "Epoch 178/200\n",
            "10/10 [==============================] - 0s 14ms/step - loss: 9.0970 - val_loss: 8.2931\n",
            "Epoch 179/200\n",
            "10/10 [==============================] - 0s 12ms/step - loss: 9.0922 - val_loss: 8.2346\n",
            "Epoch 180/200\n",
            "10/10 [==============================] - 0s 11ms/step - loss: 9.1089 - val_loss: 8.2557\n",
            "Epoch 181/200\n",
            "10/10 [==============================] - 0s 12ms/step - loss: 9.1149 - val_loss: 8.1389\n",
            "Epoch 182/200\n",
            "10/10 [==============================] - 0s 17ms/step - loss: 9.0804 - val_loss: 8.2722\n",
            "Epoch 183/200\n",
            "10/10 [==============================] - 0s 11ms/step - loss: 9.1125 - val_loss: 8.1939\n",
            "Epoch 184/200\n",
            "10/10 [==============================] - 0s 18ms/step - loss: 9.0515 - val_loss: 8.2302\n",
            "Epoch 185/200\n",
            "10/10 [==============================] - 0s 20ms/step - loss: 9.0346 - val_loss: 8.2422\n",
            "Epoch 186/200\n",
            "10/10 [==============================] - 0s 22ms/step - loss: 9.0455 - val_loss: 8.1800\n",
            "Epoch 187/200\n",
            "10/10 [==============================] - 0s 8ms/step - loss: 9.0611 - val_loss: 8.2874\n",
            "Epoch 188/200\n",
            "10/10 [==============================] - 0s 6ms/step - loss: 9.0311 - val_loss: 8.2013\n",
            "Epoch 189/200\n",
            "10/10 [==============================] - 0s 6ms/step - loss: 9.0266 - val_loss: 8.2534\n",
            "Epoch 190/200\n",
            "10/10 [==============================] - 0s 7ms/step - loss: 9.0064 - val_loss: 8.2089\n",
            "Epoch 191/200\n",
            "10/10 [==============================] - 0s 11ms/step - loss: 9.0411 - val_loss: 8.1638\n",
            "Epoch 192/200\n",
            "10/10 [==============================] - 0s 11ms/step - loss: 9.0005 - val_loss: 8.1486\n",
            "Epoch 193/200\n",
            "10/10 [==============================] - 0s 9ms/step - loss: 9.0256 - val_loss: 8.2487\n",
            "Epoch 194/200\n",
            "10/10 [==============================] - 0s 10ms/step - loss: 8.9912 - val_loss: 8.1904\n",
            "Epoch 195/200\n",
            "10/10 [==============================] - 0s 10ms/step - loss: 8.9614 - val_loss: 8.1470\n",
            "Epoch 196/200\n",
            "10/10 [==============================] - 0s 8ms/step - loss: 8.9764 - val_loss: 8.1925\n",
            "Epoch 197/200\n",
            "10/10 [==============================] - 0s 9ms/step - loss: 8.9936 - val_loss: 8.2380\n",
            "Epoch 198/200\n",
            "10/10 [==============================] - 0s 10ms/step - loss: 8.9592 - val_loss: 8.2419\n",
            "Epoch 199/200\n",
            "10/10 [==============================] - 0s 9ms/step - loss: 8.9353 - val_loss: 8.2141\n",
            "Epoch 200/200\n",
            "10/10 [==============================] - 0s 8ms/step - loss: 9.0223 - val_loss: 8.2113\n"
          ]
        }
      ]
    },
    {
      "cell_type": "code",
      "source": [
        "# Evaluate the model\n",
        "predictions = model.predict(X_test_scaled)\n",
        "r2 = r2_score(y_test, predictions)\n",
        "print(\"R2 Score:\", r2)"
      ],
      "metadata": {
        "colab": {
          "base_uri": "https://localhost:8080/"
        },
        "id": "M_jET4VffMel",
        "outputId": "60d0e69e-8e67-4390-cc51-bd0253fe469e"
      },
      "execution_count": null,
      "outputs": [
        {
          "output_type": "stream",
          "name": "stdout",
          "text": [
            "3/3 [==============================] - 0s 4ms/step\n",
            "R2 Score: 0.8426853406343153\n"
          ]
        }
      ]
    }
  ]
}